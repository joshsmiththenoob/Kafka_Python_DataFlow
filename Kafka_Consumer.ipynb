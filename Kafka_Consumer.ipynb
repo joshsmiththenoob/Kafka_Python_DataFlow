{
 "cells": [
  {
   "cell_type": "code",
   "execution_count": 1,
   "metadata": {},
   "outputs": [],
   "source": [
    "# -*- coding: utf-8 -*-\n",
    "from kafka import KafkaConsumer"
   ]
  },
  {
   "cell_type": "code",
   "execution_count": null,
   "metadata": {},
   "outputs": [],
   "source": [
    "consumer = KafkaConsumer(\n",
    "    'NanmenBridge',\n",
    "    group_id='group-a',\n",
    "    bootstrap_servers=['localhost:9092'],\n",
    "    enable_auto_commit=False,\n",
    ")\n",
    "\n",
    "for message in consumer:\n",
    "    print(message)\n",
    "    print('%s:%d:%d: key=%s value=%s' % (\n",
    "        message.topic,\n",
    "        message.partition,\n",
    "        message.offset,\n",
    "        message.key,\n",
    "        message.value\n",
    "    ))"
   ]
  }
 ],
 "metadata": {
  "kernelspec": {
   "display_name": "evn_kafka",
   "language": "python",
   "name": "python3"
  },
  "language_info": {
   "codemirror_mode": {
    "name": "ipython",
    "version": 3
   },
   "file_extension": ".py",
   "mimetype": "text/x-python",
   "name": "python",
   "nbconvert_exporter": "python",
   "pygments_lexer": "ipython3",
   "version": "3.8.10"
  },
  "orig_nbformat": 4
 },
 "nbformat": 4,
 "nbformat_minor": 2
}
