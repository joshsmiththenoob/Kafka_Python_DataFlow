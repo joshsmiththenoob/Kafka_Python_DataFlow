{
 "cells": [
  {
   "cell_type": "code",
   "execution_count": 4,
   "metadata": {},
   "outputs": [],
   "source": [
    "from kafka import KafkaProducer\n",
    "from kafka.errors import KafkaError"
   ]
  },
  {
   "cell_type": "code",
   "execution_count": 5,
   "metadata": {},
   "outputs": [],
   "source": [
    "producer = KafkaProducer(bootstrap_servers=['192.168.1.100:9092'])  # boostrap_servers = 架設Kafka伺服器的主機IP(內網用Private IP，外網(外部主機)用Public IP)，Kafka Server服務默認端口為9092"
   ]
  },
  {
   "cell_type": "code",
   "execution_count": 6,
   "metadata": {},
   "outputs": [
    {
     "name": "stdout",
     "output_type": "stream",
     "text": [
      "<kafka.producer.future.FutureRecordMetadata object at 0x000002071FAF36A0>\n"
     ]
    }
   ],
   "source": [
    "# asynchronous by default\n",
    "future = producer.send('NanmenBridge', b'raw_bytes') # 通常，進行網路傳輸時，資料格式皆為二進位格式(bytes)\n",
    "print(future)"
   ]
  },
  {
   "cell_type": "code",
   "execution_count": 7,
   "metadata": {},
   "outputs": [
    {
     "name": "stdout",
     "output_type": "stream",
     "text": [
      "RecordMetadata(topic='NanmenBridge', partition=0, topic_partition=TopicPartition(topic='NanmenBridge', partition=0), offset=8081, timestamp=1692343576435, log_start_offset=4, checksum=None, serialized_key_size=-1, serialized_value_size=9, serialized_header_size=-1)\n"
     ]
    }
   ],
   "source": [
    "# block for 'synchronous' sends\n",
    "try:\n",
    "    record_metadata = future.get(timeout=10)\n",
    "    print(record_metadata)\n",
    "except KafkaError:\n",
    "    # decide what to do if produce request failed...\n",
    "    pass"
   ]
  },
  {
   "cell_type": "code",
   "execution_count": 9,
   "metadata": {},
   "outputs": [
    {
     "name": "stdout",
     "output_type": "stream",
     "text": [
      "NanmenBridge\n",
      "0\n",
      "8081\n"
     ]
    }
   ],
   "source": [
    "# successful result returns assigned partition and offset\n",
    "print(record_metadata.topic) # 訊息傳遞的Topic 名稱\n",
    "print(record_metadata.partition) # 訊息傳送到Topic內哪一個Partition，如果當初建立Topic時只有一個Partition，則Partition 編號 = 0\n",
    "print(record_metadata.offset) # 訊息傳到Topic內特定的Partition中的位置 = 資料id ， 最舊的訊息(資料) : offset(id) = 0，最新的訊息 : 則offset(id) 越大 "
   ]
  },
  {
   "cell_type": "code",
   "execution_count": 10,
   "metadata": {},
   "outputs": [
    {
     "data": {
      "text/plain": [
       "<kafka.producer.future.FutureRecordMetadata at 0x2071fafee50>"
      ]
     },
     "execution_count": 10,
     "metadata": {},
     "output_type": "execute_result"
    }
   ],
   "source": [
    "# produce keyed messages to enable hashed partitioning\n",
    "producer.send('my-NanmenBridge-topic', key=b'foo', value=b'bar')"
   ]
  },
  {
   "cell_type": "markdown",
   "metadata": {},
   "source": [
    "## **批次(Batch)發布(Publish)訊息** \n",
    "Batch = 幾筆資料一綑 -> 一次將多筆資料綑成一綑，發送至Kafka Server \n",
    "\n",
    "like 深度學習的batch -> 幾筆資料一綑，並進行訓練，進行Batch Learning\n",
    "\n",
    "Agument : \n",
    "1. linger_ms : 等待幾毫秒(ms)，當超過設定時間，則在時間內傳送的訊息一次送出去\n",
    "2. batch_size : 設定一綑的筆數，如果傳送的訊息樹木超過一綑的數量，則傳送出去\n",
    "\n",
    "優先順序 : batch_size > linger_ms ， 兩個都設置參數的情況下，如果在限定時間(linger_ms)內達到一綑的數目(batch_size)，則會送出，否則就會等到限定時間後才送出"
   ]
  },
  {
   "cell_type": "code",
   "execution_count": 12,
   "metadata": {},
   "outputs": [],
   "source": [
    "from kafka import KafkaProducer\n",
    "producer = KafkaProducer(bootstrap_servers=['192.168.1.100:9092'] , \n",
    "                         linger_ms = 1000,\n",
    "                         batch_size = 1000)  # boostrap_servers = 架設Kafka伺服器的主機IP(內網用Private IP，外網(外部主機)用Public IP)，Kafka Server服務默認端口為9092\n",
    "\n",
    "for _ in range(1000):\n",
    "    future = producer.send('NanmenBridge', b'Hello Kafka!')\n",
    "\n",
    "# 這些訊息都會存到緩衝區，直到訊息筆數超過限制條件(linger_ms、batch_size)，才會一次送出\n",
    "producer.flush() # 確保緩衝區的資料全部傳送到Kafka伺服器"
   ]
  },
  {
   "cell_type": "code",
   "execution_count": 13,
   "metadata": {},
   "outputs": [
    {
     "data": {
      "text/plain": [
       "RecordMetadata(topic='NanmenBridge', partition=0, topic_partition=TopicPartition(topic='NanmenBridge', partition=0), offset=10081, timestamp=1692347585647, log_start_offset=4, checksum=None, serialized_key_size=-1, serialized_value_size=12, serialized_header_size=-1)"
      ]
     },
     "execution_count": 13,
     "metadata": {},
     "output_type": "execute_result"
    }
   ],
   "source": [
    "future.get()"
   ]
  },
  {
   "cell_type": "code",
   "execution_count": null,
   "metadata": {},
   "outputs": [],
   "source": []
  }
 ],
 "metadata": {
  "kernelspec": {
   "display_name": "evn_kafka",
   "language": "python",
   "name": "python3"
  },
  "language_info": {
   "codemirror_mode": {
    "name": "ipython",
    "version": 3
   },
   "file_extension": ".py",
   "mimetype": "text/x-python",
   "name": "python",
   "nbconvert_exporter": "python",
   "pygments_lexer": "ipython3",
   "version": "3.8.10"
  },
  "orig_nbformat": 4
 },
 "nbformat": 4,
 "nbformat_minor": 2
}
